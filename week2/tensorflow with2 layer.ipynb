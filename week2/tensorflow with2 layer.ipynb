{
 "cells": [
  {
   "cell_type": "code",
   "execution_count": 1,
   "metadata": {
    "collapsed": true
   },
   "outputs": [],
   "source": [
    "import tensorflow as tf\n",
    "import numpy as np\n",
    "import matplotlib.pyplot as plt"
   ]
  },
  {
   "cell_type": "code",
   "execution_count": 2,
   "metadata": {},
   "outputs": [
    {
     "name": "stderr",
     "output_type": "stream",
     "text": [
      "Using TensorFlow backend.\n"
     ]
    },
    {
     "name": "stdout",
     "output_type": "stream",
     "text": [
      "(50000, 28, 28) (50000,)\n"
     ]
    },
    {
     "data": {
      "image/png": "[encoded data removed]",
      "text/plain": [
       "<matplotlib.figure.Figure at 0x1a6694dd9e8>"
      ]
     },
     "metadata": {},
     "output_type": "display_data"
    }
   ],
   "source": [
    "from preprocessed_mnist import load_dataset\n",
    "x_train, y_train, x_val, y_val, x_test, y_test = load_dataset()\n",
    "print(x_train.shape, y_train.shape)\n",
    "import matplotlib.pyplot as plt\n",
    "%matplotlib inline\n",
    "plt.imshow(x_train[0], cmap=\"Greys\");"
   ]
  },
  {
   "cell_type": "code",
   "execution_count": 3,
   "metadata": {},
   "outputs": [
    {
     "name": "stdout",
     "output_type": "stream",
     "text": [
      "(50000, 28, 28) (50000,) (10000, 28, 28) (10000,)\n"
     ]
    }
   ],
   "source": [
    "print(x_train.shape,y_train.shape,x_test.shape,y_test.shape)"
   ]
  },
  {
   "cell_type": "code",
   "execution_count": 4,
   "metadata": {
    "collapsed": true
   },
   "outputs": [],
   "source": [
    "#y_train = np.eye(10)[y_train]\n",
    "#y_train[:500]"
   ]
  },
  {
   "cell_type": "code",
   "execution_count": 5,
   "metadata": {},
   "outputs": [
    {
     "name": "stdout",
     "output_type": "stream",
     "text": [
      "(50000, 784) (50000, 1) (10000, 784) (10000, 1)\n"
     ]
    }
   ],
   "source": [
    "X_train = x_train.reshape(50000,784)\n",
    "y_train = y_train.reshape(50000,1)\n",
    "X_test = x_test.reshape(10000,784)\n",
    "y_test = y_test.reshape(10000,1)\n",
    "print(X_train.shape,y_train.shape,X_test.shape,y_test.shape)"
   ]
  },
  {
   "cell_type": "code",
   "execution_count": 6,
   "metadata": {
    "collapsed": true
   },
   "outputs": [],
   "source": [
    "X = tf.placeholder(shape = [None,784],dtype = tf.float32)\n",
    "y = tf.placeholder(shape = [None,10],dtype = tf.float32)"
   ]
  },
  {
   "cell_type": "code",
   "execution_count": 7,
   "metadata": {
    "collapsed": true
   },
   "outputs": [],
   "source": [
    "weight1 = tf.Variable(initial_value = tf.truncated_normal([784,512]),dtype = tf.float32)\n",
    "bias1 = tf.Variable(initial_value = np.zeros([512]),dtype = tf.float32)\n",
    "weight2 = tf.Variable(initial_value = tf.truncated_normal([512,10]),dtype = tf.float32)\n",
    "bias2 = tf.Variable(initial_value = np.zeros([10]),dtype = tf.float32)\n",
    "\n"
   ]
  },
  {
   "cell_type": "code",
   "execution_count": 8,
   "metadata": {},
   "outputs": [
    {
     "name": "stdout",
     "output_type": "stream",
     "text": [
      "Tensor(\"Relu:0\", shape=(?, 512), dtype=float32) Tensor(\"add_1:0\", shape=(?, 10), dtype=float32)\n"
     ]
    }
   ],
   "source": [
    "y_pred1 = tf.nn.relu(tf.matmul(X,weight1)+bias1)\n",
    "y_pred2 = tf.matmul(y_pred1,weight2)+bias2\n",
    "\n",
    "print(y_pred1,y_pred2)"
   ]
  },
  {
   "cell_type": "code",
   "execution_count": 9,
   "metadata": {
    "collapsed": true
   },
   "outputs": [],
   "source": [
    "cost = tf.reduce_mean(tf.nn.softmax_cross_entropy_with_logits(logits=y_pred2,labels=y))\n",
    "\n",
    "#optimizer = tf.train.GradientDescentOptimizer(1).minimize(cost)\n",
    "optimizer = tf.train.AdamOptimizer(0.03).minimize(cost)"
   ]
  },
  {
   "cell_type": "code",
   "execution_count": 10,
   "metadata": {
    "collapsed": true
   },
   "outputs": [],
   "source": [
    "total_correct = tf.equal(tf.argmax(y_pred2,1),tf.argmax(y,1))\n",
    "accuracy = tf.reduce_mean(tf.cast(total_correct,tf.float32))"
   ]
  },
  {
   "cell_type": "code",
   "execution_count": 11,
   "metadata": {
    "collapsed": true
   },
   "outputs": [],
   "source": [
    "y_train = np.eye(10)[y_train]\n",
    "y_test = np.eye(10)[y_test]\n",
    "y_train = y_train.reshape(50000,10)\n",
    "y_test = y_test.reshape(10000,10)"
   ]
  },
  {
   "cell_type": "code",
   "execution_count": 13,
   "metadata": {},
   "outputs": [
    {
     "data": {
      "text/plain": [
       "(50000, 10)"
      ]
     },
     "execution_count": 13,
     "metadata": {},
     "output_type": "execute_result"
    }
   ],
   "source": [
    "y1 = y_train.reshape(50000,10)\n",
    "y1.shape"
   ]
  },
  {
   "cell_type": "code",
   "execution_count": 14,
   "metadata": {},
   "outputs": [
    {
     "name": "stdout",
     "output_type": "stream",
     "text": [
      "train  22.7648 || test  23.7817\n",
      "train  0.815608 || test  1.81434\n",
      "train  0.198137 || test  1.35432\n",
      "train  0.0846684 || test  1.31086\n",
      "train  0.00219064 || test  1.20557\n",
      "train  0.000114022 || test  1.19853\n",
      "train  6.97736e-05 || test  1.19682\n",
      "train  5.24793e-05 || test  1.19629\n",
      "train  4.23093e-05 || test  1.19596\n",
      "train  3.53949e-05 || test  1.19573\n"
     ]
    }
   ],
   "source": [
    "sess = tf.InteractiveSession()\n",
    "tf.global_variables_initializer().run()\n",
    "train_loss = []\n",
    "test_loss = []\n",
    "for i in range(100):\n",
    "    for j in range(0,50000,5000):\n",
    "        sess.run(optimizer,{X : X_train[j:j+5000,],y:y_train[j:j+5000,]})\n",
    "    l1 = sess.run(cost,{X : X_train[:10000,],y:y_train[:10000,]})\n",
    "    l2 = sess.run(cost,{X : X_test,y:y_test})\n",
    "    train_loss.append(l1)\n",
    "    test_loss.append(l2)\n",
    "    if(i%10==0):\n",
    "        print(\"train \", l1,\"||\",\"test \",l2)"
   ]
  },
  {
   "cell_type": "code",
   "execution_count": 15,
   "metadata": {},
   "outputs": [
    {
     "data": {
      "image/png": "[encoded data removed]",
      "text/plain": [
       "<matplotlib.figure.Figure at 0x1a60081a1d0>"
      ]
     },
     "metadata": {},
     "output_type": "display_data"
    }
   ],
   "source": [
    "plt.plot(np.arange(100),train_loss,label=\"train\",color=\"b\")\n",
    "plt.plot(np.arange(100),test_loss,label=\"test\",color=\"r\")\n",
    "plt.show()"
   ]
  },
  {
   "cell_type": "code",
   "execution_count": 16,
   "metadata": {},
   "outputs": [
    {
     "data": {
      "text/plain": [
       "0.95529997"
      ]
     },
     "execution_count": 16,
     "metadata": {},
     "output_type": "execute_result"
    }
   ],
   "source": [
    "sess.run(accuracy,{X:X_test,y:y_test})"
   ]
  },
  {
   "cell_type": "code",
   "execution_count": null,
   "metadata": {},
   "outputs": [],
   "source": []
  },
  {
   "cell_type": "code",
   "execution_count": null,
   "metadata": {
    "collapsed": true
   },
   "outputs": [],
   "source": []
  }
 ],
 "metadata": {
  "kernelspec": {
   "display_name": "Python 3",
   "language": "python",
   "name": "python3"
  },
  "language_info": {
   "codemirror_mode": {
    "name": "ipython",
    "version": 3
   },
   "file_extension": ".py",
   "mimetype": "text/x-python",
   "name": "python",
   "nbconvert_exporter": "python",
   "pygments_lexer": "ipython3",
   "version": "3.6.2"
  }
 },
 "nbformat": 4,
 "nbformat_minor": 2
}
